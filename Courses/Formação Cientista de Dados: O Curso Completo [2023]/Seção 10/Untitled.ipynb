{
 "cells": [
  {
   "cell_type": "code",
   "execution_count": 55,
   "id": "f3567655-4bf2-4678-bf13-3f84899e7683",
   "metadata": {},
   "outputs": [],
   "source": [
    "import pandas as pd\n",
    "import statistics as sts\n",
    "import matplotlib.pyplot as plt"
   ]
  },
  {
   "cell_type": "code",
   "execution_count": 56,
   "id": "2970f0f5-17af-448d-bc83-05ed6cd3bff3",
   "metadata": {},
   "outputs": [],
   "source": [
    "df = pd.read_csv('tempo.csv',sep=';')"
   ]
  },
  {
   "cell_type": "code",
   "execution_count": 57,
   "id": "c78f1c95-f9a1-4b40-930c-90dd85258f89",
   "metadata": {},
   "outputs": [
    {
     "data": {
      "text/html": [
       "<div>\n",
       "<style scoped>\n",
       "    .dataframe tbody tr th:only-of-type {\n",
       "        vertical-align: middle;\n",
       "    }\n",
       "\n",
       "    .dataframe tbody tr th {\n",
       "        vertical-align: top;\n",
       "    }\n",
       "\n",
       "    .dataframe thead th {\n",
       "        text-align: right;\n",
       "    }\n",
       "</style>\n",
       "<table border=\"1\" class=\"dataframe\">\n",
       "  <thead>\n",
       "    <tr style=\"text-align: right;\">\n",
       "      <th></th>\n",
       "      <th>Aparencia</th>\n",
       "      <th>Temperatura</th>\n",
       "      <th>Umidade</th>\n",
       "      <th>Vento</th>\n",
       "      <th>Jogar</th>\n",
       "    </tr>\n",
       "  </thead>\n",
       "  <tbody>\n",
       "    <tr>\n",
       "      <th>0</th>\n",
       "      <td>sol</td>\n",
       "      <td>85</td>\n",
       "      <td>85.0</td>\n",
       "      <td>FALSO</td>\n",
       "      <td>nao</td>\n",
       "    </tr>\n",
       "    <tr>\n",
       "      <th>1</th>\n",
       "      <td>sol</td>\n",
       "      <td>80</td>\n",
       "      <td>90.0</td>\n",
       "      <td>VERDADEIRO</td>\n",
       "      <td>nao</td>\n",
       "    </tr>\n",
       "    <tr>\n",
       "      <th>2</th>\n",
       "      <td>nublado</td>\n",
       "      <td>83</td>\n",
       "      <td>86.0</td>\n",
       "      <td>FALSO</td>\n",
       "      <td>sim</td>\n",
       "    </tr>\n",
       "    <tr>\n",
       "      <th>3</th>\n",
       "      <td>chuva</td>\n",
       "      <td>70</td>\n",
       "      <td>NaN</td>\n",
       "      <td>FALSO</td>\n",
       "      <td>sim</td>\n",
       "    </tr>\n",
       "    <tr>\n",
       "      <th>4</th>\n",
       "      <td>chuva</td>\n",
       "      <td>68</td>\n",
       "      <td>80.0</td>\n",
       "      <td>FALSO</td>\n",
       "      <td>sim</td>\n",
       "    </tr>\n",
       "  </tbody>\n",
       "</table>\n",
       "</div>"
      ],
      "text/plain": [
       "  Aparencia  Temperatura  Umidade       Vento Jogar\n",
       "0       sol           85     85.0       FALSO   nao\n",
       "1       sol           80     90.0  VERDADEIRO   nao\n",
       "2   nublado           83     86.0       FALSO   sim\n",
       "3     chuva           70      NaN       FALSO   sim\n",
       "4     chuva           68     80.0       FALSO   sim"
      ]
     },
     "execution_count": 57,
     "metadata": {},
     "output_type": "execute_result"
    }
   ],
   "source": [
    "df.head()"
   ]
  },
  {
   "cell_type": "code",
   "execution_count": 58,
   "id": "a4f2f9be-5632-4b25-941e-cd24612ddd61",
   "metadata": {},
   "outputs": [
    {
     "data": {
      "text/html": [
       "<div>\n",
       "<style scoped>\n",
       "    .dataframe tbody tr th:only-of-type {\n",
       "        vertical-align: middle;\n",
       "    }\n",
       "\n",
       "    .dataframe tbody tr th {\n",
       "        vertical-align: top;\n",
       "    }\n",
       "\n",
       "    .dataframe thead th {\n",
       "        text-align: right;\n",
       "    }\n",
       "</style>\n",
       "<table border=\"1\" class=\"dataframe\">\n",
       "  <thead>\n",
       "    <tr style=\"text-align: right;\">\n",
       "      <th></th>\n",
       "      <th>Temperatura</th>\n",
       "      <th>Umidade</th>\n",
       "    </tr>\n",
       "  </thead>\n",
       "  <tbody>\n",
       "    <tr>\n",
       "      <th>count</th>\n",
       "      <td>14.000000</td>\n",
       "      <td>13.000000</td>\n",
       "    </tr>\n",
       "    <tr>\n",
       "      <th>mean</th>\n",
       "      <td>155.571429</td>\n",
       "      <td>89.769231</td>\n",
       "    </tr>\n",
       "    <tr>\n",
       "      <th>std</th>\n",
       "      <td>306.433759</td>\n",
       "      <td>34.540203</td>\n",
       "    </tr>\n",
       "    <tr>\n",
       "      <th>min</th>\n",
       "      <td>64.000000</td>\n",
       "      <td>65.000000</td>\n",
       "    </tr>\n",
       "    <tr>\n",
       "      <th>25%</th>\n",
       "      <td>69.250000</td>\n",
       "      <td>70.000000</td>\n",
       "    </tr>\n",
       "    <tr>\n",
       "      <th>50%</th>\n",
       "      <td>73.500000</td>\n",
       "      <td>85.000000</td>\n",
       "    </tr>\n",
       "    <tr>\n",
       "      <th>75%</th>\n",
       "      <td>80.750000</td>\n",
       "      <td>90.000000</td>\n",
       "    </tr>\n",
       "    <tr>\n",
       "      <th>max</th>\n",
       "      <td>1220.000000</td>\n",
       "      <td>200.000000</td>\n",
       "    </tr>\n",
       "  </tbody>\n",
       "</table>\n",
       "</div>"
      ],
      "text/plain": [
       "       Temperatura     Umidade\n",
       "count    14.000000   13.000000\n",
       "mean    155.571429   89.769231\n",
       "std     306.433759   34.540203\n",
       "min      64.000000   65.000000\n",
       "25%      69.250000   70.000000\n",
       "50%      73.500000   85.000000\n",
       "75%      80.750000   90.000000\n",
       "max    1220.000000  200.000000"
      ]
     },
     "execution_count": 58,
     "metadata": {},
     "output_type": "execute_result"
    }
   ],
   "source": [
    "df.describe()"
   ]
  },
  {
   "cell_type": "code",
   "execution_count": 59,
   "id": "3bdc5ab3-782b-4ae9-b749-9289db142c3b",
   "metadata": {},
   "outputs": [
    {
     "data": {
      "text/plain": [
       "Aparencia      0\n",
       "Temperatura    0\n",
       "Umidade        1\n",
       "Vento          1\n",
       "Jogar          0\n",
       "dtype: int64"
      ]
     },
     "execution_count": 59,
     "metadata": {},
     "output_type": "execute_result"
    }
   ],
   "source": [
    "df.isnull().sum()"
   ]
  },
  {
   "cell_type": "code",
   "execution_count": 60,
   "id": "7eb2c2e1-d3c5-470c-8855-50f93b951927",
   "metadata": {},
   "outputs": [
    {
     "data": {
      "text/plain": [
       "Aparencia\n",
       "chuva      5\n",
       "menos      1\n",
       "nublado    3\n",
       "sol        5\n",
       "dtype: int64"
      ]
     },
     "execution_count": 60,
     "metadata": {},
     "output_type": "execute_result"
    }
   ],
   "source": [
    "df.groupby(['Aparencia']).size()"
   ]
  },
  {
   "cell_type": "code",
   "execution_count": 61,
   "id": "060c8d42-fd41-4a62-be79-ff11c6e73310",
   "metadata": {},
   "outputs": [
    {
     "data": {
      "text/plain": [
       "Vento\n",
       "FALSO         7\n",
       "VERDADEIRO    6\n",
       "dtype: int64"
      ]
     },
     "execution_count": 61,
     "metadata": {},
     "output_type": "execute_result"
    }
   ],
   "source": [
    "df.groupby(['Vento']).size()"
   ]
  },
  {
   "cell_type": "code",
   "execution_count": 62,
   "id": "142e4db5-efea-4ba9-a9ee-457339d4e474",
   "metadata": {},
   "outputs": [
    {
     "data": {
      "text/plain": [
       "Jogar\n",
       "nao    5\n",
       "sim    9\n",
       "dtype: int64"
      ]
     },
     "execution_count": 62,
     "metadata": {},
     "output_type": "execute_result"
    }
   ],
   "source": [
    "df.groupby(['Jogar']).size()"
   ]
  },
  {
   "cell_type": "markdown",
   "id": "374968f0-b750-4055-9b6a-3348b431c4f9",
   "metadata": {},
   "source": [
    "# Tratamento coluna: Aparência"
   ]
  },
  {
   "cell_type": "code",
   "execution_count": 63,
   "id": "4847d417-61e8-4fdf-934e-fca1bc862144",
   "metadata": {},
   "outputs": [
    {
     "data": {
      "text/plain": [
       "0         sol\n",
       "1         sol\n",
       "2     nublado\n",
       "3       chuva\n",
       "4       chuva\n",
       "5       chuva\n",
       "6       menos\n",
       "7         sol\n",
       "8         sol\n",
       "9       chuva\n",
       "10        sol\n",
       "11    nublado\n",
       "12    nublado\n",
       "13      chuva\n",
       "Name: Aparencia, dtype: object"
      ]
     },
     "execution_count": 63,
     "metadata": {},
     "output_type": "execute_result"
    }
   ],
   "source": [
    "df['Aparencia']"
   ]
  },
  {
   "cell_type": "code",
   "execution_count": 64,
   "id": "dd047c1e-05bf-4295-a64c-b5e938e92ce5",
   "metadata": {},
   "outputs": [],
   "source": [
    "df.loc[df['Aparencia'] == 'menos','Aparencia'] = 'sol'"
   ]
  },
  {
   "cell_type": "code",
   "execution_count": 65,
   "id": "8d171e8d-34b2-49a0-8bdb-9b07b3d62f9b",
   "metadata": {},
   "outputs": [
    {
     "data": {
      "text/plain": [
       "0         sol\n",
       "1         sol\n",
       "2     nublado\n",
       "3       chuva\n",
       "4       chuva\n",
       "5       chuva\n",
       "6         sol\n",
       "7         sol\n",
       "8         sol\n",
       "9       chuva\n",
       "10        sol\n",
       "11    nublado\n",
       "12    nublado\n",
       "13      chuva\n",
       "Name: Aparencia, dtype: object"
      ]
     },
     "execution_count": 65,
     "metadata": {},
     "output_type": "execute_result"
    }
   ],
   "source": [
    "df['Aparencia']"
   ]
  },
  {
   "cell_type": "markdown",
   "id": "7438fd77-8e9a-456b-b4e9-d168256fc40b",
   "metadata": {},
   "source": [
    "# Tratamento coluna: Vento"
   ]
  },
  {
   "cell_type": "code",
   "execution_count": 66,
   "id": "ef296bec-e817-4a28-872b-c6da9e12dd1f",
   "metadata": {},
   "outputs": [
    {
     "data": {
      "text/plain": [
       "0          FALSO\n",
       "1     VERDADEIRO\n",
       "2          FALSO\n",
       "3          FALSO\n",
       "4          FALSO\n",
       "5     VERDADEIRO\n",
       "6     VERDADEIRO\n",
       "7          FALSO\n",
       "8          FALSO\n",
       "9            NaN\n",
       "10    VERDADEIRO\n",
       "11    VERDADEIRO\n",
       "12         FALSO\n",
       "13    VERDADEIRO\n",
       "Name: Vento, dtype: object"
      ]
     },
     "execution_count": 66,
     "metadata": {},
     "output_type": "execute_result"
    }
   ],
   "source": [
    "df['Vento']"
   ]
  },
  {
   "cell_type": "code",
   "execution_count": 67,
   "id": "ba035ef8-5cfc-47e4-9f03-554ac20b5f38",
   "metadata": {},
   "outputs": [],
   "source": [
    "df['Vento'].fillna('FALSO',inplace = True)"
   ]
  },
  {
   "cell_type": "code",
   "execution_count": 68,
   "id": "97a7156d-11b6-47d0-a465-8038bebb0beb",
   "metadata": {},
   "outputs": [
    {
     "data": {
      "text/plain": [
       "0          FALSO\n",
       "1     VERDADEIRO\n",
       "2          FALSO\n",
       "3          FALSO\n",
       "4          FALSO\n",
       "5     VERDADEIRO\n",
       "6     VERDADEIRO\n",
       "7          FALSO\n",
       "8          FALSO\n",
       "9          FALSO\n",
       "10    VERDADEIRO\n",
       "11    VERDADEIRO\n",
       "12         FALSO\n",
       "13    VERDADEIRO\n",
       "Name: Vento, dtype: object"
      ]
     },
     "execution_count": 68,
     "metadata": {},
     "output_type": "execute_result"
    }
   ],
   "source": [
    "df['Vento']"
   ]
  },
  {
   "cell_type": "markdown",
   "id": "9b8e0eb1-8792-4fbf-9611-441082576acc",
   "metadata": {},
   "source": [
    "# Tratamento coluna: Jogar"
   ]
  },
  {
   "cell_type": "code",
   "execution_count": 69,
   "id": "21d32d2a-37da-48e0-afac-65c5e7b52bd4",
   "metadata": {},
   "outputs": [
    {
     "data": {
      "text/plain": [
       "0     nao\n",
       "1     nao\n",
       "2     sim\n",
       "3     sim\n",
       "4     sim\n",
       "5     nao\n",
       "6     sim\n",
       "7     nao\n",
       "8     sim\n",
       "9     sim\n",
       "10    sim\n",
       "11    sim\n",
       "12    sim\n",
       "13    nao\n",
       "Name: Jogar, dtype: object"
      ]
     },
     "execution_count": 69,
     "metadata": {},
     "output_type": "execute_result"
    }
   ],
   "source": [
    "df['Jogar']"
   ]
  },
  {
   "cell_type": "code",
   "execution_count": 70,
   "id": "8f63ba0c-89a2-4cec-a35d-3c6065aee6b7",
   "metadata": {},
   "outputs": [],
   "source": [
    "df['Jogar'].fillna('sim',inplace = True)"
   ]
  },
  {
   "cell_type": "code",
   "execution_count": 71,
   "id": "eb40e085-4c84-44fa-bf7a-0e38e707e27d",
   "metadata": {},
   "outputs": [
    {
     "data": {
      "text/plain": [
       "0     nao\n",
       "1     nao\n",
       "2     sim\n",
       "3     sim\n",
       "4     sim\n",
       "5     nao\n",
       "6     sim\n",
       "7     nao\n",
       "8     sim\n",
       "9     sim\n",
       "10    sim\n",
       "11    sim\n",
       "12    sim\n",
       "13    nao\n",
       "Name: Jogar, dtype: object"
      ]
     },
     "execution_count": 71,
     "metadata": {},
     "output_type": "execute_result"
    }
   ],
   "source": [
    "df['Jogar']"
   ]
  },
  {
   "cell_type": "markdown",
   "id": "0a44a210-2eec-4e77-acb3-d0f0d161a5a0",
   "metadata": {},
   "source": [
    "# Tratamento coluna: Umidade"
   ]
  },
  {
   "cell_type": "code",
   "execution_count": 72,
   "id": "394b8272-4127-443c-aa58-ff5594f79d65",
   "metadata": {},
   "outputs": [
    {
     "data": {
      "text/plain": [
       "0      85.0\n",
       "1      90.0\n",
       "2      86.0\n",
       "3       NaN\n",
       "4      80.0\n",
       "5      70.0\n",
       "6      65.0\n",
       "7      95.0\n",
       "8      70.0\n",
       "9     200.0\n",
       "10     70.0\n",
       "11     90.0\n",
       "12     75.0\n",
       "13     91.0\n",
       "Name: Umidade, dtype: float64"
      ]
     },
     "execution_count": 72,
     "metadata": {},
     "output_type": "execute_result"
    }
   ],
   "source": [
    "df['Umidade']"
   ]
  },
  {
   "cell_type": "code",
   "execution_count": 73,
   "id": "5f42e54b-9942-4bea-83a9-407c9c974148",
   "metadata": {},
   "outputs": [],
   "source": [
    "df.loc[(df['Umidade'] < 0) | (df['Umidade'] > 100),'Umidade'] = sts.median(df['Umidade'])\n",
    "df['Umidade'].fillna(sts.median(df['Umidade']),inplace = True)"
   ]
  },
  {
   "cell_type": "code",
   "execution_count": 74,
   "id": "a3e55e56-9163-48b2-8d69-1da849901232",
   "metadata": {},
   "outputs": [
    {
     "data": {
      "text/plain": [
       "0     85.0\n",
       "1     90.0\n",
       "2     86.0\n",
       "3     85.5\n",
       "4     80.0\n",
       "5     70.0\n",
       "6     65.0\n",
       "7     95.0\n",
       "8     70.0\n",
       "9     85.5\n",
       "10    70.0\n",
       "11    90.0\n",
       "12    75.0\n",
       "13    91.0\n",
       "Name: Umidade, dtype: float64"
      ]
     },
     "execution_count": 74,
     "metadata": {},
     "output_type": "execute_result"
    }
   ],
   "source": [
    "df['Umidade']"
   ]
  },
  {
   "cell_type": "markdown",
   "id": "437e0a49-69fd-45de-9652-444193c11c65",
   "metadata": {},
   "source": [
    "# Tratamento coluna: Temperatura"
   ]
  },
  {
   "cell_type": "code",
   "execution_count": 75,
   "id": "d8d522e0-1ee3-4a1a-ab94-4d51ee70b2c4",
   "metadata": {},
   "outputs": [
    {
     "data": {
      "text/plain": [
       "0       85\n",
       "1       80\n",
       "2       83\n",
       "3       70\n",
       "4       68\n",
       "5       65\n",
       "6       64\n",
       "7     1220\n",
       "8       69\n",
       "9       75\n",
       "10      75\n",
       "11      72\n",
       "12      81\n",
       "13      71\n",
       "Name: Temperatura, dtype: int64"
      ]
     },
     "execution_count": 75,
     "metadata": {},
     "output_type": "execute_result"
    }
   ],
   "source": [
    "df['Temperatura']"
   ]
  },
  {
   "cell_type": "code",
   "execution_count": 76,
   "id": "e4e27846-0746-4a67-947a-36f5fef3b2ce",
   "metadata": {},
   "outputs": [],
   "source": [
    "df.loc[(df['Temperatura'] < -135) | (df['Temperatura'] > 130),'Temperatura'] = sts.median(df['Temperatura'])"
   ]
  },
  {
   "cell_type": "code",
   "execution_count": 77,
   "id": "36ede345-cd6b-4f4f-9619-e5c7c4ed9ff5",
   "metadata": {},
   "outputs": [
    {
     "data": {
      "text/plain": [
       "0     85.0\n",
       "1     80.0\n",
       "2     83.0\n",
       "3     70.0\n",
       "4     68.0\n",
       "5     65.0\n",
       "6     64.0\n",
       "7     73.5\n",
       "8     69.0\n",
       "9     75.0\n",
       "10    75.0\n",
       "11    72.0\n",
       "12    81.0\n",
       "13    71.0\n",
       "Name: Temperatura, dtype: float64"
      ]
     },
     "execution_count": 77,
     "metadata": {},
     "output_type": "execute_result"
    }
   ],
   "source": [
    "df['Temperatura']"
   ]
  }
 ],
 "metadata": {
  "kernelspec": {
   "display_name": "Python 3 (ipykernel)",
   "language": "python",
   "name": "python3"
  },
  "language_info": {
   "codemirror_mode": {
    "name": "ipython",
    "version": 3
   },
   "file_extension": ".py",
   "mimetype": "text/x-python",
   "name": "python",
   "nbconvert_exporter": "python",
   "pygments_lexer": "ipython3",
   "version": "3.10.12"
  }
 },
 "nbformat": 4,
 "nbformat_minor": 5
}
